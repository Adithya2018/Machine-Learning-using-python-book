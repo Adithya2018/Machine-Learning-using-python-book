{
 "cells": [
  {
   "cell_type": "markdown",
   "metadata": {},
   "source": [
    "# Chapter - 2: Descriptive Analytics\n",
    "\n",
    "Introduces the concept of DataFrame and working with DataFrames such as selecting, filtering, grouping, joining, etc. Also introduces statistical plots such as histogram, distribution plot, scatter plot, heatmap and so on and how to derive insights from these plots."
   ]
  },
  {
   "cell_type": "code",
   "execution_count": null,
   "metadata": {},
   "outputs": [],
   "source": []
  },
  {
   "cell_type": "code",
   "execution_count": null,
   "metadata": {},
   "outputs": [],
   "source": []
  }
 ],
 "metadata": {
  "kernelspec": {
   "display_name": ".venv",
   "language": "python",
   "name": "python3"
  },
  "language_info": {
   "name": "python",
   "version": "3.12.4"
  }
 },
 "nbformat": 4,
 "nbformat_minor": 2
}
