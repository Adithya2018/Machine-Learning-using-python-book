{
 "cells": [
  {
   "cell_type": "markdown",
   "metadata": {},
   "source": [
    "# Chapter - 1: Introduction to Machine Learning using Python\n",
    "\n",
    "This chapter discusses concepts such as artificial intelligence, machine learning and deep learning and a framework for building machine learning models. This chapter also explains why Python has been chosen as the language for building machine learning models. Also, provides a quick overview of Python language and how to get started."
   ]
  },
  {
   "cell_type": "code",
   "execution_count": null,
   "metadata": {},
   "outputs": [],
   "source": []
  }
 ],
 "metadata": {
  "language_info": {
   "name": "python"
  }
 },
 "nbformat": 4,
 "nbformat_minor": 2
}
